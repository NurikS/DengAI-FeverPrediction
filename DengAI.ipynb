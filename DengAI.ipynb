{
  "nbformat": 4,
  "nbformat_minor": 0,
  "metadata": {
    "colab": {
      "name": "DengAI.ipynb",
      "version": "0.3.2",
      "provenance": [],
      "collapsed_sections": [],
      "toc_visible": true,
      "include_colab_link": true
    },
    "kernelspec": {
      "name": "python3",
      "display_name": "Python 3"
    },
    "accelerator": "GPU"
  },
  "cells": [
    {
      "cell_type": "markdown",
      "metadata": {
        "id": "view-in-github",
        "colab_type": "text"
      },
      "source": [
        "<a href=\"https://colab.research.google.com/github/NurikS/DengAI-FeverPrediction/blob/master/DengAI.ipynb\" target=\"_parent\"><img src=\"https://colab.research.google.com/assets/colab-badge.svg\" alt=\"Open In Colab\"/></a>"
      ]
    },
    {
      "metadata": {
        "id": "wZD2C-m1yWm9",
        "colab_type": "code",
        "colab": {}
      },
      "cell_type": "code",
      "source": [
        "import os\n",
        "\n",
        "os.mkdir(\"DengAI\")\n",
        "os.chdir(\"DengAI\")"
      ],
      "execution_count": 0,
      "outputs": []
    },
    {
      "metadata": {
        "id": "Uju2gK9rzbt0",
        "colab_type": "code",
        "outputId": "484e9a66-fdf2-4dfa-acfe-6f11631c47ac",
        "colab": {
          "base_uri": "https://localhost:8080/",
          "height": 765
        }
      },
      "cell_type": "code",
      "source": [
        "!wget https://s3.amazonaws.com/drivendata/data/44/public/dengue_features_train.csv\n",
        "!wget https://s3.amazonaws.com/drivendata/data/44/public/dengue_labels_train.csv\n",
        "!wget https://s3.amazonaws.com/drivendata/data/44/public/dengue_features_test.csv\n",
        "!wget https://s3.amazonaws.com/drivendata/data/44/public/submission_format.csv"
      ],
      "execution_count": 0,
      "outputs": [
        {
          "output_type": "stream",
          "text": [
            "--2019-01-14 13:01:44--  https://s3.amazonaws.com/drivendata/data/44/public/dengue_features_train.csv\n",
            "Resolving s3.amazonaws.com (s3.amazonaws.com)... 52.216.10.85\n",
            "Connecting to s3.amazonaws.com (s3.amazonaws.com)|52.216.10.85|:443... connected.\n",
            "HTTP request sent, awaiting response... 200 OK\n",
            "Length: 287139 (280K) [text/csv]\n",
            "Saving to: ‘dengue_features_train.csv’\n",
            "\n",
            "\r          dengue_fe   0%[                    ]       0  --.-KB/s               \rdengue_features_tra 100%[===================>] 280.41K  --.-KB/s    in 0.1s    \n",
            "\n",
            "2019-01-14 13:01:45 (2.32 MB/s) - ‘dengue_features_train.csv’ saved [287139/287139]\n",
            "\n",
            "--2019-01-14 13:01:45--  https://s3.amazonaws.com/drivendata/data/44/public/dengue_labels_train.csv\n",
            "Resolving s3.amazonaws.com (s3.amazonaws.com)... 52.216.10.85\n",
            "Connecting to s3.amazonaws.com (s3.amazonaws.com)|52.216.10.85|:443... connected.\n",
            "HTTP request sent, awaiting response... 200 OK\n",
            "Length: 19582 (19K) [text/csv]\n",
            "Saving to: ‘dengue_labels_train.csv’\n",
            "\n",
            "dengue_labels_train 100%[===================>]  19.12K  --.-KB/s    in 0.03s   \n",
            "\n",
            "2019-01-14 13:01:46 (669 KB/s) - ‘dengue_labels_train.csv’ saved [19582/19582]\n",
            "\n",
            "--2019-01-14 13:01:47--  https://s3.amazonaws.com/drivendata/data/44/public/dengue_features_test.csv\n",
            "Resolving s3.amazonaws.com (s3.amazonaws.com)... 52.216.10.85\n",
            "Connecting to s3.amazonaws.com (s3.amazonaws.com)|52.216.10.85|:443... connected.\n",
            "HTTP request sent, awaiting response... 200 OK\n",
            "Length: 82465 (81K) [text/csv]\n",
            "Saving to: ‘dengue_features_test.csv’\n",
            "\n",
            "dengue_features_tes 100%[===================>]  80.53K  --.-KB/s    in 0.06s   \n",
            "\n",
            "2019-01-14 13:01:47 (1.27 MB/s) - ‘dengue_features_test.csv’ saved [82465/82465]\n",
            "\n",
            "--2019-01-14 13:01:48--  https://s3.amazonaws.com/drivendata/data/44/public/submission_format.csv\n",
            "Resolving s3.amazonaws.com (s3.amazonaws.com)... 52.216.178.117\n",
            "Connecting to s3.amazonaws.com (s3.amazonaws.com)|52.216.178.117|:443... connected.\n",
            "HTTP request sent, awaiting response... 200 OK\n",
            "Length: 5369 (5.2K) [text/csv]\n",
            "Saving to: ‘submission_format.csv’\n",
            "\n",
            "submission_format.c 100%[===================>]   5.24K  --.-KB/s    in 0s      \n",
            "\n",
            "2019-01-14 13:01:48 (151 MB/s) - ‘submission_format.csv’ saved [5369/5369]\n",
            "\n"
          ],
          "name": "stdout"
        }
      ]
    },
    {
      "metadata": {
        "id": "KsXkgTqfz1nE",
        "colab_type": "code",
        "colab": {}
      },
      "cell_type": "code",
      "source": [
        "#now when we have the data, let's create the environment for data analysis\n",
        "\n",
        "import numpy as np                 #for linear algebra\n",
        "import pandas as pd                #for reading and manipulating data\n",
        "import matplotlib.pyplot as plt    #for data viz\n",
        "import seaborn as sns              #for data viz\n",
        "from scipy import stats\n",
        "from scipy.stats import norm\n",
        "%matplotlib inline\n",
        "from sklearn.metrics import mean_absolute_error     \n",
        "from sklearn.model_selection import train_test_split\n",
        "from sklearn.preprocessing import StandardScaler\n",
        "\n",
        "import warnings\n",
        "warnings.filterwarnings('ignore')"
      ],
      "execution_count": 0,
      "outputs": []
    },
    {
      "metadata": {
        "id": "ZrTYoFu_2Vdc",
        "colab_type": "code",
        "outputId": "76eccf58-7e50-4d30-e58f-57870ffeaf83",
        "colab": {
          "base_uri": "https://localhost:8080/",
          "height": 253
        }
      },
      "cell_type": "code",
      "source": [
        "features = pd.read_csv(\"dengue_features_train.csv\")\n",
        "features.head()"
      ],
      "execution_count": 0,
      "outputs": [
        {
          "output_type": "execute_result",
          "data": {
            "text/html": [
              "<div>\n",
              "<style scoped>\n",
              "    .dataframe tbody tr th:only-of-type {\n",
              "        vertical-align: middle;\n",
              "    }\n",
              "\n",
              "    .dataframe tbody tr th {\n",
              "        vertical-align: top;\n",
              "    }\n",
              "\n",
              "    .dataframe thead th {\n",
              "        text-align: right;\n",
              "    }\n",
              "</style>\n",
              "<table border=\"1\" class=\"dataframe\">\n",
              "  <thead>\n",
              "    <tr style=\"text-align: right;\">\n",
              "      <th></th>\n",
              "      <th>city</th>\n",
              "      <th>year</th>\n",
              "      <th>weekofyear</th>\n",
              "      <th>week_start_date</th>\n",
              "      <th>ndvi_ne</th>\n",
              "      <th>ndvi_nw</th>\n",
              "      <th>ndvi_se</th>\n",
              "      <th>ndvi_sw</th>\n",
              "      <th>precipitation_amt_mm</th>\n",
              "      <th>reanalysis_air_temp_k</th>\n",
              "      <th>...</th>\n",
              "      <th>reanalysis_precip_amt_kg_per_m2</th>\n",
              "      <th>reanalysis_relative_humidity_percent</th>\n",
              "      <th>reanalysis_sat_precip_amt_mm</th>\n",
              "      <th>reanalysis_specific_humidity_g_per_kg</th>\n",
              "      <th>reanalysis_tdtr_k</th>\n",
              "      <th>station_avg_temp_c</th>\n",
              "      <th>station_diur_temp_rng_c</th>\n",
              "      <th>station_max_temp_c</th>\n",
              "      <th>station_min_temp_c</th>\n",
              "      <th>station_precip_mm</th>\n",
              "    </tr>\n",
              "  </thead>\n",
              "  <tbody>\n",
              "    <tr>\n",
              "      <th>0</th>\n",
              "      <td>sj</td>\n",
              "      <td>1990</td>\n",
              "      <td>18</td>\n",
              "      <td>1990-04-30</td>\n",
              "      <td>0.122600</td>\n",
              "      <td>0.103725</td>\n",
              "      <td>0.198483</td>\n",
              "      <td>0.177617</td>\n",
              "      <td>12.42</td>\n",
              "      <td>297.572857</td>\n",
              "      <td>...</td>\n",
              "      <td>32.00</td>\n",
              "      <td>73.365714</td>\n",
              "      <td>12.42</td>\n",
              "      <td>14.012857</td>\n",
              "      <td>2.628571</td>\n",
              "      <td>25.442857</td>\n",
              "      <td>6.900000</td>\n",
              "      <td>29.4</td>\n",
              "      <td>20.0</td>\n",
              "      <td>16.0</td>\n",
              "    </tr>\n",
              "    <tr>\n",
              "      <th>1</th>\n",
              "      <td>sj</td>\n",
              "      <td>1990</td>\n",
              "      <td>19</td>\n",
              "      <td>1990-05-07</td>\n",
              "      <td>0.169900</td>\n",
              "      <td>0.142175</td>\n",
              "      <td>0.162357</td>\n",
              "      <td>0.155486</td>\n",
              "      <td>22.82</td>\n",
              "      <td>298.211429</td>\n",
              "      <td>...</td>\n",
              "      <td>17.94</td>\n",
              "      <td>77.368571</td>\n",
              "      <td>22.82</td>\n",
              "      <td>15.372857</td>\n",
              "      <td>2.371429</td>\n",
              "      <td>26.714286</td>\n",
              "      <td>6.371429</td>\n",
              "      <td>31.7</td>\n",
              "      <td>22.2</td>\n",
              "      <td>8.6</td>\n",
              "    </tr>\n",
              "    <tr>\n",
              "      <th>2</th>\n",
              "      <td>sj</td>\n",
              "      <td>1990</td>\n",
              "      <td>20</td>\n",
              "      <td>1990-05-14</td>\n",
              "      <td>0.032250</td>\n",
              "      <td>0.172967</td>\n",
              "      <td>0.157200</td>\n",
              "      <td>0.170843</td>\n",
              "      <td>34.54</td>\n",
              "      <td>298.781429</td>\n",
              "      <td>...</td>\n",
              "      <td>26.10</td>\n",
              "      <td>82.052857</td>\n",
              "      <td>34.54</td>\n",
              "      <td>16.848571</td>\n",
              "      <td>2.300000</td>\n",
              "      <td>26.714286</td>\n",
              "      <td>6.485714</td>\n",
              "      <td>32.2</td>\n",
              "      <td>22.8</td>\n",
              "      <td>41.4</td>\n",
              "    </tr>\n",
              "    <tr>\n",
              "      <th>3</th>\n",
              "      <td>sj</td>\n",
              "      <td>1990</td>\n",
              "      <td>21</td>\n",
              "      <td>1990-05-21</td>\n",
              "      <td>0.128633</td>\n",
              "      <td>0.245067</td>\n",
              "      <td>0.227557</td>\n",
              "      <td>0.235886</td>\n",
              "      <td>15.36</td>\n",
              "      <td>298.987143</td>\n",
              "      <td>...</td>\n",
              "      <td>13.90</td>\n",
              "      <td>80.337143</td>\n",
              "      <td>15.36</td>\n",
              "      <td>16.672857</td>\n",
              "      <td>2.428571</td>\n",
              "      <td>27.471429</td>\n",
              "      <td>6.771429</td>\n",
              "      <td>33.3</td>\n",
              "      <td>23.3</td>\n",
              "      <td>4.0</td>\n",
              "    </tr>\n",
              "    <tr>\n",
              "      <th>4</th>\n",
              "      <td>sj</td>\n",
              "      <td>1990</td>\n",
              "      <td>22</td>\n",
              "      <td>1990-05-28</td>\n",
              "      <td>0.196200</td>\n",
              "      <td>0.262200</td>\n",
              "      <td>0.251200</td>\n",
              "      <td>0.247340</td>\n",
              "      <td>7.52</td>\n",
              "      <td>299.518571</td>\n",
              "      <td>...</td>\n",
              "      <td>12.20</td>\n",
              "      <td>80.460000</td>\n",
              "      <td>7.52</td>\n",
              "      <td>17.210000</td>\n",
              "      <td>3.014286</td>\n",
              "      <td>28.942857</td>\n",
              "      <td>9.371429</td>\n",
              "      <td>35.0</td>\n",
              "      <td>23.9</td>\n",
              "      <td>5.8</td>\n",
              "    </tr>\n",
              "  </tbody>\n",
              "</table>\n",
              "<p>5 rows × 24 columns</p>\n",
              "</div>"
            ],
            "text/plain": [
              "  city  year  weekofyear week_start_date   ndvi_ne   ndvi_nw   ndvi_se  \\\n",
              "0   sj  1990          18      1990-04-30  0.122600  0.103725  0.198483   \n",
              "1   sj  1990          19      1990-05-07  0.169900  0.142175  0.162357   \n",
              "2   sj  1990          20      1990-05-14  0.032250  0.172967  0.157200   \n",
              "3   sj  1990          21      1990-05-21  0.128633  0.245067  0.227557   \n",
              "4   sj  1990          22      1990-05-28  0.196200  0.262200  0.251200   \n",
              "\n",
              "    ndvi_sw  precipitation_amt_mm  reanalysis_air_temp_k        ...          \\\n",
              "0  0.177617                 12.42             297.572857        ...           \n",
              "1  0.155486                 22.82             298.211429        ...           \n",
              "2  0.170843                 34.54             298.781429        ...           \n",
              "3  0.235886                 15.36             298.987143        ...           \n",
              "4  0.247340                  7.52             299.518571        ...           \n",
              "\n",
              "   reanalysis_precip_amt_kg_per_m2  reanalysis_relative_humidity_percent  \\\n",
              "0                            32.00                             73.365714   \n",
              "1                            17.94                             77.368571   \n",
              "2                            26.10                             82.052857   \n",
              "3                            13.90                             80.337143   \n",
              "4                            12.20                             80.460000   \n",
              "\n",
              "   reanalysis_sat_precip_amt_mm  reanalysis_specific_humidity_g_per_kg  \\\n",
              "0                         12.42                              14.012857   \n",
              "1                         22.82                              15.372857   \n",
              "2                         34.54                              16.848571   \n",
              "3                         15.36                              16.672857   \n",
              "4                          7.52                              17.210000   \n",
              "\n",
              "   reanalysis_tdtr_k  station_avg_temp_c  station_diur_temp_rng_c  \\\n",
              "0           2.628571           25.442857                 6.900000   \n",
              "1           2.371429           26.714286                 6.371429   \n",
              "2           2.300000           26.714286                 6.485714   \n",
              "3           2.428571           27.471429                 6.771429   \n",
              "4           3.014286           28.942857                 9.371429   \n",
              "\n",
              "   station_max_temp_c  station_min_temp_c  station_precip_mm  \n",
              "0                29.4                20.0               16.0  \n",
              "1                31.7                22.2                8.6  \n",
              "2                32.2                22.8               41.4  \n",
              "3                33.3                23.3                4.0  \n",
              "4                35.0                23.9                5.8  \n",
              "\n",
              "[5 rows x 24 columns]"
            ]
          },
          "metadata": {
            "tags": []
          },
          "execution_count": 4
        }
      ]
    },
    {
      "metadata": {
        "id": "J70lBkONZHdm",
        "colab_type": "code",
        "outputId": "4d36802e-f95c-4cde-a4af-8de0a81f8104",
        "colab": {
          "base_uri": "https://localhost:8080/",
          "height": 346
        }
      },
      "cell_type": "code",
      "source": [
        "features.describe()"
      ],
      "execution_count": 0,
      "outputs": [
        {
          "output_type": "execute_result",
          "data": {
            "text/html": [
              "<div>\n",
              "<style scoped>\n",
              "    .dataframe tbody tr th:only-of-type {\n",
              "        vertical-align: middle;\n",
              "    }\n",
              "\n",
              "    .dataframe tbody tr th {\n",
              "        vertical-align: top;\n",
              "    }\n",
              "\n",
              "    .dataframe thead th {\n",
              "        text-align: right;\n",
              "    }\n",
              "</style>\n",
              "<table border=\"1\" class=\"dataframe\">\n",
              "  <thead>\n",
              "    <tr style=\"text-align: right;\">\n",
              "      <th></th>\n",
              "      <th>year</th>\n",
              "      <th>weekofyear</th>\n",
              "      <th>ndvi_ne</th>\n",
              "      <th>ndvi_nw</th>\n",
              "      <th>ndvi_se</th>\n",
              "      <th>ndvi_sw</th>\n",
              "      <th>precipitation_amt_mm</th>\n",
              "      <th>reanalysis_air_temp_k</th>\n",
              "      <th>reanalysis_avg_temp_k</th>\n",
              "      <th>reanalysis_dew_point_temp_k</th>\n",
              "      <th>...</th>\n",
              "      <th>reanalysis_precip_amt_kg_per_m2</th>\n",
              "      <th>reanalysis_relative_humidity_percent</th>\n",
              "      <th>reanalysis_sat_precip_amt_mm</th>\n",
              "      <th>reanalysis_specific_humidity_g_per_kg</th>\n",
              "      <th>reanalysis_tdtr_k</th>\n",
              "      <th>station_avg_temp_c</th>\n",
              "      <th>station_diur_temp_rng_c</th>\n",
              "      <th>station_max_temp_c</th>\n",
              "      <th>station_min_temp_c</th>\n",
              "      <th>station_precip_mm</th>\n",
              "    </tr>\n",
              "  </thead>\n",
              "  <tbody>\n",
              "    <tr>\n",
              "      <th>count</th>\n",
              "      <td>1456.000000</td>\n",
              "      <td>1456.000000</td>\n",
              "      <td>1262.000000</td>\n",
              "      <td>1404.000000</td>\n",
              "      <td>1434.000000</td>\n",
              "      <td>1434.000000</td>\n",
              "      <td>1443.000000</td>\n",
              "      <td>1446.000000</td>\n",
              "      <td>1446.000000</td>\n",
              "      <td>1446.000000</td>\n",
              "      <td>...</td>\n",
              "      <td>1446.000000</td>\n",
              "      <td>1446.000000</td>\n",
              "      <td>1443.000000</td>\n",
              "      <td>1446.000000</td>\n",
              "      <td>1446.000000</td>\n",
              "      <td>1413.000000</td>\n",
              "      <td>1413.000000</td>\n",
              "      <td>1436.000000</td>\n",
              "      <td>1442.000000</td>\n",
              "      <td>1434.000000</td>\n",
              "    </tr>\n",
              "    <tr>\n",
              "      <th>mean</th>\n",
              "      <td>2001.031593</td>\n",
              "      <td>26.503434</td>\n",
              "      <td>0.142294</td>\n",
              "      <td>0.130553</td>\n",
              "      <td>0.203783</td>\n",
              "      <td>0.202305</td>\n",
              "      <td>45.760388</td>\n",
              "      <td>298.701852</td>\n",
              "      <td>299.225578</td>\n",
              "      <td>295.246356</td>\n",
              "      <td>...</td>\n",
              "      <td>40.151819</td>\n",
              "      <td>82.161959</td>\n",
              "      <td>45.760388</td>\n",
              "      <td>16.746427</td>\n",
              "      <td>4.903754</td>\n",
              "      <td>27.185783</td>\n",
              "      <td>8.059328</td>\n",
              "      <td>32.452437</td>\n",
              "      <td>22.102150</td>\n",
              "      <td>39.326360</td>\n",
              "    </tr>\n",
              "    <tr>\n",
              "      <th>std</th>\n",
              "      <td>5.408314</td>\n",
              "      <td>15.019437</td>\n",
              "      <td>0.140531</td>\n",
              "      <td>0.119999</td>\n",
              "      <td>0.073860</td>\n",
              "      <td>0.083903</td>\n",
              "      <td>43.715537</td>\n",
              "      <td>1.362420</td>\n",
              "      <td>1.261715</td>\n",
              "      <td>1.527810</td>\n",
              "      <td>...</td>\n",
              "      <td>43.434399</td>\n",
              "      <td>7.153897</td>\n",
              "      <td>43.715537</td>\n",
              "      <td>1.542494</td>\n",
              "      <td>3.546445</td>\n",
              "      <td>1.292347</td>\n",
              "      <td>2.128568</td>\n",
              "      <td>1.959318</td>\n",
              "      <td>1.574066</td>\n",
              "      <td>47.455314</td>\n",
              "    </tr>\n",
              "    <tr>\n",
              "      <th>min</th>\n",
              "      <td>1990.000000</td>\n",
              "      <td>1.000000</td>\n",
              "      <td>-0.406250</td>\n",
              "      <td>-0.456100</td>\n",
              "      <td>-0.015533</td>\n",
              "      <td>-0.063457</td>\n",
              "      <td>0.000000</td>\n",
              "      <td>294.635714</td>\n",
              "      <td>294.892857</td>\n",
              "      <td>289.642857</td>\n",
              "      <td>...</td>\n",
              "      <td>0.000000</td>\n",
              "      <td>57.787143</td>\n",
              "      <td>0.000000</td>\n",
              "      <td>11.715714</td>\n",
              "      <td>1.357143</td>\n",
              "      <td>21.400000</td>\n",
              "      <td>4.528571</td>\n",
              "      <td>26.700000</td>\n",
              "      <td>14.700000</td>\n",
              "      <td>0.000000</td>\n",
              "    </tr>\n",
              "    <tr>\n",
              "      <th>25%</th>\n",
              "      <td>1997.000000</td>\n",
              "      <td>13.750000</td>\n",
              "      <td>0.044950</td>\n",
              "      <td>0.049217</td>\n",
              "      <td>0.155087</td>\n",
              "      <td>0.144209</td>\n",
              "      <td>9.800000</td>\n",
              "      <td>297.658929</td>\n",
              "      <td>298.257143</td>\n",
              "      <td>294.118929</td>\n",
              "      <td>...</td>\n",
              "      <td>13.055000</td>\n",
              "      <td>77.177143</td>\n",
              "      <td>9.800000</td>\n",
              "      <td>15.557143</td>\n",
              "      <td>2.328571</td>\n",
              "      <td>26.300000</td>\n",
              "      <td>6.514286</td>\n",
              "      <td>31.100000</td>\n",
              "      <td>21.100000</td>\n",
              "      <td>8.700000</td>\n",
              "    </tr>\n",
              "    <tr>\n",
              "      <th>50%</th>\n",
              "      <td>2002.000000</td>\n",
              "      <td>26.500000</td>\n",
              "      <td>0.128817</td>\n",
              "      <td>0.121429</td>\n",
              "      <td>0.196050</td>\n",
              "      <td>0.189450</td>\n",
              "      <td>38.340000</td>\n",
              "      <td>298.646429</td>\n",
              "      <td>299.289286</td>\n",
              "      <td>295.640714</td>\n",
              "      <td>...</td>\n",
              "      <td>27.245000</td>\n",
              "      <td>80.301429</td>\n",
              "      <td>38.340000</td>\n",
              "      <td>17.087143</td>\n",
              "      <td>2.857143</td>\n",
              "      <td>27.414286</td>\n",
              "      <td>7.300000</td>\n",
              "      <td>32.800000</td>\n",
              "      <td>22.200000</td>\n",
              "      <td>23.850000</td>\n",
              "    </tr>\n",
              "    <tr>\n",
              "      <th>75%</th>\n",
              "      <td>2005.000000</td>\n",
              "      <td>39.250000</td>\n",
              "      <td>0.248483</td>\n",
              "      <td>0.216600</td>\n",
              "      <td>0.248846</td>\n",
              "      <td>0.246982</td>\n",
              "      <td>70.235000</td>\n",
              "      <td>299.833571</td>\n",
              "      <td>300.207143</td>\n",
              "      <td>296.460000</td>\n",
              "      <td>...</td>\n",
              "      <td>52.200000</td>\n",
              "      <td>86.357857</td>\n",
              "      <td>70.235000</td>\n",
              "      <td>17.978214</td>\n",
              "      <td>7.625000</td>\n",
              "      <td>28.157143</td>\n",
              "      <td>9.566667</td>\n",
              "      <td>33.900000</td>\n",
              "      <td>23.300000</td>\n",
              "      <td>53.900000</td>\n",
              "    </tr>\n",
              "    <tr>\n",
              "      <th>max</th>\n",
              "      <td>2010.000000</td>\n",
              "      <td>53.000000</td>\n",
              "      <td>0.508357</td>\n",
              "      <td>0.454429</td>\n",
              "      <td>0.538314</td>\n",
              "      <td>0.546017</td>\n",
              "      <td>390.600000</td>\n",
              "      <td>302.200000</td>\n",
              "      <td>302.928571</td>\n",
              "      <td>298.450000</td>\n",
              "      <td>...</td>\n",
              "      <td>570.500000</td>\n",
              "      <td>98.610000</td>\n",
              "      <td>390.600000</td>\n",
              "      <td>20.461429</td>\n",
              "      <td>16.028571</td>\n",
              "      <td>30.800000</td>\n",
              "      <td>15.800000</td>\n",
              "      <td>42.200000</td>\n",
              "      <td>25.600000</td>\n",
              "      <td>543.300000</td>\n",
              "    </tr>\n",
              "  </tbody>\n",
              "</table>\n",
              "<p>8 rows × 22 columns</p>\n",
              "</div>"
            ],
            "text/plain": [
              "              year   weekofyear      ndvi_ne      ndvi_nw      ndvi_se  \\\n",
              "count  1456.000000  1456.000000  1262.000000  1404.000000  1434.000000   \n",
              "mean   2001.031593    26.503434     0.142294     0.130553     0.203783   \n",
              "std       5.408314    15.019437     0.140531     0.119999     0.073860   \n",
              "min    1990.000000     1.000000    -0.406250    -0.456100    -0.015533   \n",
              "25%    1997.000000    13.750000     0.044950     0.049217     0.155087   \n",
              "50%    2002.000000    26.500000     0.128817     0.121429     0.196050   \n",
              "75%    2005.000000    39.250000     0.248483     0.216600     0.248846   \n",
              "max    2010.000000    53.000000     0.508357     0.454429     0.538314   \n",
              "\n",
              "           ndvi_sw  precipitation_amt_mm  reanalysis_air_temp_k  \\\n",
              "count  1434.000000           1443.000000            1446.000000   \n",
              "mean      0.202305             45.760388             298.701852   \n",
              "std       0.083903             43.715537               1.362420   \n",
              "min      -0.063457              0.000000             294.635714   \n",
              "25%       0.144209              9.800000             297.658929   \n",
              "50%       0.189450             38.340000             298.646429   \n",
              "75%       0.246982             70.235000             299.833571   \n",
              "max       0.546017            390.600000             302.200000   \n",
              "\n",
              "       reanalysis_avg_temp_k  reanalysis_dew_point_temp_k        ...          \\\n",
              "count            1446.000000                  1446.000000        ...           \n",
              "mean              299.225578                   295.246356        ...           \n",
              "std                 1.261715                     1.527810        ...           \n",
              "min               294.892857                   289.642857        ...           \n",
              "25%               298.257143                   294.118929        ...           \n",
              "50%               299.289286                   295.640714        ...           \n",
              "75%               300.207143                   296.460000        ...           \n",
              "max               302.928571                   298.450000        ...           \n",
              "\n",
              "       reanalysis_precip_amt_kg_per_m2  reanalysis_relative_humidity_percent  \\\n",
              "count                      1446.000000                           1446.000000   \n",
              "mean                         40.151819                             82.161959   \n",
              "std                          43.434399                              7.153897   \n",
              "min                           0.000000                             57.787143   \n",
              "25%                          13.055000                             77.177143   \n",
              "50%                          27.245000                             80.301429   \n",
              "75%                          52.200000                             86.357857   \n",
              "max                         570.500000                             98.610000   \n",
              "\n",
              "       reanalysis_sat_precip_amt_mm  reanalysis_specific_humidity_g_per_kg  \\\n",
              "count                   1443.000000                            1446.000000   \n",
              "mean                      45.760388                              16.746427   \n",
              "std                       43.715537                               1.542494   \n",
              "min                        0.000000                              11.715714   \n",
              "25%                        9.800000                              15.557143   \n",
              "50%                       38.340000                              17.087143   \n",
              "75%                       70.235000                              17.978214   \n",
              "max                      390.600000                              20.461429   \n",
              "\n",
              "       reanalysis_tdtr_k  station_avg_temp_c  station_diur_temp_rng_c  \\\n",
              "count        1446.000000         1413.000000              1413.000000   \n",
              "mean            4.903754           27.185783                 8.059328   \n",
              "std             3.546445            1.292347                 2.128568   \n",
              "min             1.357143           21.400000                 4.528571   \n",
              "25%             2.328571           26.300000                 6.514286   \n",
              "50%             2.857143           27.414286                 7.300000   \n",
              "75%             7.625000           28.157143                 9.566667   \n",
              "max            16.028571           30.800000                15.800000   \n",
              "\n",
              "       station_max_temp_c  station_min_temp_c  station_precip_mm  \n",
              "count         1436.000000         1442.000000        1434.000000  \n",
              "mean            32.452437           22.102150          39.326360  \n",
              "std              1.959318            1.574066          47.455314  \n",
              "min             26.700000           14.700000           0.000000  \n",
              "25%             31.100000           21.100000           8.700000  \n",
              "50%             32.800000           22.200000          23.850000  \n",
              "75%             33.900000           23.300000          53.900000  \n",
              "max             42.200000           25.600000         543.300000  \n",
              "\n",
              "[8 rows x 22 columns]"
            ]
          },
          "metadata": {
            "tags": []
          },
          "execution_count": 5
        }
      ]
    },
    {
      "metadata": {
        "id": "HBdikIyl2l1N",
        "colab_type": "code",
        "outputId": "1cbf3fd1-209f-4add-fbdf-e8f77a26b404",
        "colab": {
          "base_uri": "https://localhost:8080/",
          "height": 204
        }
      },
      "cell_type": "code",
      "source": [
        "labels = pd.read_csv(\"dengue_labels_train.csv\")\n",
        "labels.head()"
      ],
      "execution_count": 0,
      "outputs": [
        {
          "output_type": "execute_result",
          "data": {
            "text/html": [
              "<div>\n",
              "<style scoped>\n",
              "    .dataframe tbody tr th:only-of-type {\n",
              "        vertical-align: middle;\n",
              "    }\n",
              "\n",
              "    .dataframe tbody tr th {\n",
              "        vertical-align: top;\n",
              "    }\n",
              "\n",
              "    .dataframe thead th {\n",
              "        text-align: right;\n",
              "    }\n",
              "</style>\n",
              "<table border=\"1\" class=\"dataframe\">\n",
              "  <thead>\n",
              "    <tr style=\"text-align: right;\">\n",
              "      <th></th>\n",
              "      <th>city</th>\n",
              "      <th>year</th>\n",
              "      <th>weekofyear</th>\n",
              "      <th>total_cases</th>\n",
              "    </tr>\n",
              "  </thead>\n",
              "  <tbody>\n",
              "    <tr>\n",
              "      <th>0</th>\n",
              "      <td>sj</td>\n",
              "      <td>1990</td>\n",
              "      <td>18</td>\n",
              "      <td>4</td>\n",
              "    </tr>\n",
              "    <tr>\n",
              "      <th>1</th>\n",
              "      <td>sj</td>\n",
              "      <td>1990</td>\n",
              "      <td>19</td>\n",
              "      <td>5</td>\n",
              "    </tr>\n",
              "    <tr>\n",
              "      <th>2</th>\n",
              "      <td>sj</td>\n",
              "      <td>1990</td>\n",
              "      <td>20</td>\n",
              "      <td>4</td>\n",
              "    </tr>\n",
              "    <tr>\n",
              "      <th>3</th>\n",
              "      <td>sj</td>\n",
              "      <td>1990</td>\n",
              "      <td>21</td>\n",
              "      <td>3</td>\n",
              "    </tr>\n",
              "    <tr>\n",
              "      <th>4</th>\n",
              "      <td>sj</td>\n",
              "      <td>1990</td>\n",
              "      <td>22</td>\n",
              "      <td>6</td>\n",
              "    </tr>\n",
              "  </tbody>\n",
              "</table>\n",
              "</div>"
            ],
            "text/plain": [
              "  city  year  weekofyear  total_cases\n",
              "0   sj  1990          18            4\n",
              "1   sj  1990          19            5\n",
              "2   sj  1990          20            4\n",
              "3   sj  1990          21            3\n",
              "4   sj  1990          22            6"
            ]
          },
          "metadata": {
            "tags": []
          },
          "execution_count": 6
        }
      ]
    },
    {
      "metadata": {
        "id": "8GVO9OSK3ol2",
        "colab_type": "code",
        "outputId": "765a23ae-9885-4145-d5b4-e8b22b477e72",
        "colab": {
          "base_uri": "https://localhost:8080/",
          "height": 297
        }
      },
      "cell_type": "code",
      "source": [
        "labels.describe()"
      ],
      "execution_count": 0,
      "outputs": [
        {
          "output_type": "execute_result",
          "data": {
            "text/html": [
              "<div>\n",
              "<style scoped>\n",
              "    .dataframe tbody tr th:only-of-type {\n",
              "        vertical-align: middle;\n",
              "    }\n",
              "\n",
              "    .dataframe tbody tr th {\n",
              "        vertical-align: top;\n",
              "    }\n",
              "\n",
              "    .dataframe thead th {\n",
              "        text-align: right;\n",
              "    }\n",
              "</style>\n",
              "<table border=\"1\" class=\"dataframe\">\n",
              "  <thead>\n",
              "    <tr style=\"text-align: right;\">\n",
              "      <th></th>\n",
              "      <th>year</th>\n",
              "      <th>weekofyear</th>\n",
              "      <th>total_cases</th>\n",
              "    </tr>\n",
              "  </thead>\n",
              "  <tbody>\n",
              "    <tr>\n",
              "      <th>count</th>\n",
              "      <td>1456.000000</td>\n",
              "      <td>1456.000000</td>\n",
              "      <td>1456.000000</td>\n",
              "    </tr>\n",
              "    <tr>\n",
              "      <th>mean</th>\n",
              "      <td>2001.031593</td>\n",
              "      <td>26.503434</td>\n",
              "      <td>24.675137</td>\n",
              "    </tr>\n",
              "    <tr>\n",
              "      <th>std</th>\n",
              "      <td>5.408314</td>\n",
              "      <td>15.019437</td>\n",
              "      <td>43.596000</td>\n",
              "    </tr>\n",
              "    <tr>\n",
              "      <th>min</th>\n",
              "      <td>1990.000000</td>\n",
              "      <td>1.000000</td>\n",
              "      <td>0.000000</td>\n",
              "    </tr>\n",
              "    <tr>\n",
              "      <th>25%</th>\n",
              "      <td>1997.000000</td>\n",
              "      <td>13.750000</td>\n",
              "      <td>5.000000</td>\n",
              "    </tr>\n",
              "    <tr>\n",
              "      <th>50%</th>\n",
              "      <td>2002.000000</td>\n",
              "      <td>26.500000</td>\n",
              "      <td>12.000000</td>\n",
              "    </tr>\n",
              "    <tr>\n",
              "      <th>75%</th>\n",
              "      <td>2005.000000</td>\n",
              "      <td>39.250000</td>\n",
              "      <td>28.000000</td>\n",
              "    </tr>\n",
              "    <tr>\n",
              "      <th>max</th>\n",
              "      <td>2010.000000</td>\n",
              "      <td>53.000000</td>\n",
              "      <td>461.000000</td>\n",
              "    </tr>\n",
              "  </tbody>\n",
              "</table>\n",
              "</div>"
            ],
            "text/plain": [
              "              year   weekofyear  total_cases\n",
              "count  1456.000000  1456.000000  1456.000000\n",
              "mean   2001.031593    26.503434    24.675137\n",
              "std       5.408314    15.019437    43.596000\n",
              "min    1990.000000     1.000000     0.000000\n",
              "25%    1997.000000    13.750000     5.000000\n",
              "50%    2002.000000    26.500000    12.000000\n",
              "75%    2005.000000    39.250000    28.000000\n",
              "max    2010.000000    53.000000   461.000000"
            ]
          },
          "metadata": {
            "tags": []
          },
          "execution_count": 7
        }
      ]
    },
    {
      "metadata": {
        "id": "kqIi-OxA2wam",
        "colab_type": "code",
        "outputId": "b0e5e06b-6f62-45dc-ed8c-71682558d62b",
        "colab": {
          "base_uri": "https://localhost:8080/",
          "height": 594
        }
      },
      "cell_type": "code",
      "source": [
        "sns.distplot(labels[\"total_cases\"], fit=norm)\n",
        "fig = plt.figure()\n",
        "res = stats.probplot(labels[\"total_cases\"], plot=plt)\n",
        "print(\"Skewness: %f\" %labels['total_cases'].skew())\n",
        "print(\"Kurtosis: %f\" %labels['total_cases'].kurt())"
      ],
      "execution_count": 0,
      "outputs": [
        {
          "output_type": "stream",
          "text": [
            "Skewness: 5.273850\n",
            "Kurtosis: 36.512530\n"
          ],
          "name": "stdout"
        },
        {
          "output_type": "display_data",
          "data": {
            "image/png": "[encoded data removed]",
            "text/plain": [
              "<matplotlib.figure.Figure at 0x7f9f31951668>"
            ]
          },
          "metadata": {
            "tags": []
          }
        },
        {
          "output_type": "display_data",
          "data": {
            "image/png": "[encoded data removed]",
            "text/plain": [
              "<matplotlib.figure.Figure at 0x7f9f31951630>"
            ]
          },
          "metadata": {
            "tags": []
          }
        }
      ]
    },
    {
      "metadata": {
        "id": "MIR9Z3FuHSy3",
        "colab_type": "code",
        "colab": {}
      },
      "cell_type": "code",
      "source": [
        "data = pd.merge(features, labels, how='outer', on=labels.columns.tolist()[:-1])"
      ],
      "execution_count": 0,
      "outputs": []
    },
    {
      "metadata": {
        "id": "EJ7pSX6iIUuX",
        "colab_type": "code",
        "outputId": "c2073c58-6310-4a17-fc0a-c32fdc79663e",
        "colab": {
          "base_uri": "https://localhost:8080/",
          "height": 253
        }
      },
      "cell_type": "code",
      "source": [
        "data.head()"
      ],
      "execution_count": 0,
      "outputs": [
        {
          "output_type": "execute_result",
          "data": {
            "text/html": [
              "<div>\n",
              "<style scoped>\n",
              "    .dataframe tbody tr th:only-of-type {\n",
              "        vertical-align: middle;\n",
              "    }\n",
              "\n",
              "    .dataframe tbody tr th {\n",
              "        vertical-align: top;\n",
              "    }\n",
              "\n",
              "    .dataframe thead th {\n",
              "        text-align: right;\n",
              "    }\n",
              "</style>\n",
              "<table border=\"1\" class=\"dataframe\">\n",
              "  <thead>\n",
              "    <tr style=\"text-align: right;\">\n",
              "      <th></th>\n",
              "      <th>city</th>\n",
              "      <th>year</th>\n",
              "      <th>weekofyear</th>\n",
              "      <th>week_start_date</th>\n",
              "      <th>ndvi_ne</th>\n",
              "      <th>ndvi_nw</th>\n",
              "      <th>ndvi_se</th>\n",
              "      <th>ndvi_sw</th>\n",
              "      <th>precipitation_amt_mm</th>\n",
              "      <th>reanalysis_air_temp_k</th>\n",
              "      <th>...</th>\n",
              "      <th>reanalysis_relative_humidity_percent</th>\n",
              "      <th>reanalysis_sat_precip_amt_mm</th>\n",
              "      <th>reanalysis_specific_humidity_g_per_kg</th>\n",
              "      <th>reanalysis_tdtr_k</th>\n",
              "      <th>station_avg_temp_c</th>\n",
              "      <th>station_diur_temp_rng_c</th>\n",
              "      <th>station_max_temp_c</th>\n",
              "      <th>station_min_temp_c</th>\n",
              "      <th>station_precip_mm</th>\n",
              "      <th>total_cases</th>\n",
              "    </tr>\n",
              "  </thead>\n",
              "  <tbody>\n",
              "    <tr>\n",
              "      <th>0</th>\n",
              "      <td>sj</td>\n",
              "      <td>1990</td>\n",
              "      <td>18</td>\n",
              "      <td>1990-04-30</td>\n",
              "      <td>0.122600</td>\n",
              "      <td>0.103725</td>\n",
              "      <td>0.198483</td>\n",
              "      <td>0.177617</td>\n",
              "      <td>12.42</td>\n",
              "      <td>297.572857</td>\n",
              "      <td>...</td>\n",
              "      <td>73.365714</td>\n",
              "      <td>12.42</td>\n",
              "      <td>14.012857</td>\n",
              "      <td>2.628571</td>\n",
              "      <td>25.442857</td>\n",
              "      <td>6.900000</td>\n",
              "      <td>29.4</td>\n",
              "      <td>20.0</td>\n",
              "      <td>16.0</td>\n",
              "      <td>4</td>\n",
              "    </tr>\n",
              "    <tr>\n",
              "      <th>1</th>\n",
              "      <td>sj</td>\n",
              "      <td>1990</td>\n",
              "      <td>19</td>\n",
              "      <td>1990-05-07</td>\n",
              "      <td>0.169900</td>\n",
              "      <td>0.142175</td>\n",
              "      <td>0.162357</td>\n",
              "      <td>0.155486</td>\n",
              "      <td>22.82</td>\n",
              "      <td>298.211429</td>\n",
              "      <td>...</td>\n",
              "      <td>77.368571</td>\n",
              "      <td>22.82</td>\n",
              "      <td>15.372857</td>\n",
              "      <td>2.371429</td>\n",
              "      <td>26.714286</td>\n",
              "      <td>6.371429</td>\n",
              "      <td>31.7</td>\n",
              "      <td>22.2</td>\n",
              "      <td>8.6</td>\n",
              "      <td>5</td>\n",
              "    </tr>\n",
              "    <tr>\n",
              "      <th>2</th>\n",
              "      <td>sj</td>\n",
              "      <td>1990</td>\n",
              "      <td>20</td>\n",
              "      <td>1990-05-14</td>\n",
              "      <td>0.032250</td>\n",
              "      <td>0.172967</td>\n",
              "      <td>0.157200</td>\n",
              "      <td>0.170843</td>\n",
              "      <td>34.54</td>\n",
              "      <td>298.781429</td>\n",
              "      <td>...</td>\n",
              "      <td>82.052857</td>\n",
              "      <td>34.54</td>\n",
              "      <td>16.848571</td>\n",
              "      <td>2.300000</td>\n",
              "      <td>26.714286</td>\n",
              "      <td>6.485714</td>\n",
              "      <td>32.2</td>\n",
              "      <td>22.8</td>\n",
              "      <td>41.4</td>\n",
              "      <td>4</td>\n",
              "    </tr>\n",
              "    <tr>\n",
              "      <th>3</th>\n",
              "      <td>sj</td>\n",
              "      <td>1990</td>\n",
              "      <td>21</td>\n",
              "      <td>1990-05-21</td>\n",
              "      <td>0.128633</td>\n",
              "      <td>0.245067</td>\n",
              "      <td>0.227557</td>\n",
              "      <td>0.235886</td>\n",
              "      <td>15.36</td>\n",
              "      <td>298.987143</td>\n",
              "      <td>...</td>\n",
              "      <td>80.337143</td>\n",
              "      <td>15.36</td>\n",
              "      <td>16.672857</td>\n",
              "      <td>2.428571</td>\n",
              "      <td>27.471429</td>\n",
              "      <td>6.771429</td>\n",
              "      <td>33.3</td>\n",
              "      <td>23.3</td>\n",
              "      <td>4.0</td>\n",
              "      <td>3</td>\n",
              "    </tr>\n",
              "    <tr>\n",
              "      <th>4</th>\n",
              "      <td>sj</td>\n",
              "      <td>1990</td>\n",
              "      <td>22</td>\n",
              "      <td>1990-05-28</td>\n",
              "      <td>0.196200</td>\n",
              "      <td>0.262200</td>\n",
              "      <td>0.251200</td>\n",
              "      <td>0.247340</td>\n",
              "      <td>7.52</td>\n",
              "      <td>299.518571</td>\n",
              "      <td>...</td>\n",
              "      <td>80.460000</td>\n",
              "      <td>7.52</td>\n",
              "      <td>17.210000</td>\n",
              "      <td>3.014286</td>\n",
              "      <td>28.942857</td>\n",
              "      <td>9.371429</td>\n",
              "      <td>35.0</td>\n",
              "      <td>23.9</td>\n",
              "      <td>5.8</td>\n",
              "      <td>6</td>\n",
              "    </tr>\n",
              "  </tbody>\n",
              "</table>\n",
              "<p>5 rows × 25 columns</p>\n",
              "</div>"
            ],
            "text/plain": [
              "  city  year  weekofyear week_start_date   ndvi_ne   ndvi_nw   ndvi_se  \\\n",
              "0   sj  1990          18      1990-04-30  0.122600  0.103725  0.198483   \n",
              "1   sj  1990          19      1990-05-07  0.169900  0.142175  0.162357   \n",
              "2   sj  1990          20      1990-05-14  0.032250  0.172967  0.157200   \n",
              "3   sj  1990          21      1990-05-21  0.128633  0.245067  0.227557   \n",
              "4   sj  1990          22      1990-05-28  0.196200  0.262200  0.251200   \n",
              "\n",
              "    ndvi_sw  precipitation_amt_mm  reanalysis_air_temp_k     ...       \\\n",
              "0  0.177617                 12.42             297.572857     ...        \n",
              "1  0.155486                 22.82             298.211429     ...        \n",
              "2  0.170843                 34.54             298.781429     ...        \n",
              "3  0.235886                 15.36             298.987143     ...        \n",
              "4  0.247340                  7.52             299.518571     ...        \n",
              "\n",
              "   reanalysis_relative_humidity_percent  reanalysis_sat_precip_amt_mm  \\\n",
              "0                             73.365714                         12.42   \n",
              "1                             77.368571                         22.82   \n",
              "2                             82.052857                         34.54   \n",
              "3                             80.337143                         15.36   \n",
              "4                             80.460000                          7.52   \n",
              "\n",
              "   reanalysis_specific_humidity_g_per_kg  reanalysis_tdtr_k  \\\n",
              "0                              14.012857           2.628571   \n",
              "1                              15.372857           2.371429   \n",
              "2                              16.848571           2.300000   \n",
              "3                              16.672857           2.428571   \n",
              "4                              17.210000           3.014286   \n",
              "\n",
              "   station_avg_temp_c  station_diur_temp_rng_c  station_max_temp_c  \\\n",
              "0           25.442857                 6.900000                29.4   \n",
              "1           26.714286                 6.371429                31.7   \n",
              "2           26.714286                 6.485714                32.2   \n",
              "3           27.471429                 6.771429                33.3   \n",
              "4           28.942857                 9.371429                35.0   \n",
              "\n",
              "   station_min_temp_c  station_precip_mm  total_cases  \n",
              "0                20.0               16.0            4  \n",
              "1                22.2                8.6            5  \n",
              "2                22.8               41.4            4  \n",
              "3                23.3                4.0            3  \n",
              "4                23.9                5.8            6  \n",
              "\n",
              "[5 rows x 25 columns]"
            ]
          },
          "metadata": {
            "tags": []
          },
          "execution_count": 10
        }
      ]
    },
    {
      "metadata": {
        "id": "5OFnUADhIeoa",
        "colab_type": "code",
        "outputId": "bfb10340-a8ae-4d27-e8f2-1366f2a193a7",
        "colab": {
          "base_uri": "https://localhost:8080/",
          "height": 446
        }
      },
      "cell_type": "code",
      "source": [
        "sns.heatmap(data.corr())"
      ],
      "execution_count": 0,
      "outputs": [
        {
          "output_type": "execute_result",
          "data": {
            "text/plain": [
              "<matplotlib.axes._subplots.AxesSubplot at 0x7f9f2eceb048>"
            ]
          },
          "metadata": {
            "tags": []
          },
          "execution_count": 11
        },
        {
          "output_type": "display_data",
          "data": {
            "image/png": "[encoded data removed]",
            "text/plain": [
              "<matplotlib.figure.Figure at 0x7f9f319514a8>"
            ]
          },
          "metadata": {
            "tags": []
          }
        }
      ]
    },
    {
      "metadata": {
        "id": "Pdo9oREV3AWk",
        "colab_type": "code",
        "colab": {}
      },
      "cell_type": "code",
      "source": [
        "#the data is really skewed, let's fix it using log transform\n",
        "#labels[\"total_cases\"] = np.log1p(labels[\"total_cases\"])"
      ],
      "execution_count": 0,
      "outputs": []
    },
    {
      "metadata": {
        "id": "5ZP5alCFEjmM",
        "colab_type": "code",
        "colab": {}
      },
      "cell_type": "code",
      "source": [
        "def extract_month(s):\n",
        "    return int(s[5:7])"
      ],
      "execution_count": 0,
      "outputs": []
    },
    {
      "metadata": {
        "id": "rfaq7EOPB1A-",
        "colab_type": "code",
        "colab": {}
      },
      "cell_type": "code",
      "source": [
        "def preprocess(X, train = True):\n",
        "  \n",
        "    is_sj = X.city == 'sj'\n",
        "    months = X.week_start_date.apply(extract_month)\n",
        "    X.drop([\"city\", \"year\", \"weekofyear\", \"week_start_date\"], axis=1, inplace=True)\n",
        "    \n",
        "    if train:\n",
        "      X.dropna(inplace=True)\n",
        "    else:\n",
        "      X.fillna(0, inplace=True)\n",
        "    \n",
        "    scaler = StandardScaler()\n",
        "    X[X.columns] = scaler.fit_transform(X)\n",
        "    \n",
        "    X['is_sj'] = is_sj.loc[X.index]\n",
        "    \n",
        "    sliced_months = months.loc[X.index]\n",
        "    \n",
        "    months_features = pd.get_dummies(sliced_months)\n",
        "    X = X.join(months_features)\n",
        "    \n",
        "    return X\n",
        "   "
      ],
      "execution_count": 0,
      "outputs": []
    },
    {
      "metadata": {
        "id": "YaxkGNtjHzoe",
        "colab_type": "code",
        "colab": {}
      },
      "cell_type": "code",
      "source": [
        "X = preprocess(features)"
      ],
      "execution_count": 0,
      "outputs": []
    },
    {
      "metadata": {
        "id": "rBCzDvb-H8x6",
        "colab_type": "code",
        "colab": {}
      },
      "cell_type": "code",
      "source": [
        "y = labels.total_cases.loc[X.index]"
      ],
      "execution_count": 0,
      "outputs": []
    },
    {
      "metadata": {
        "id": "neGBJIJqIMA2",
        "colab_type": "code",
        "colab": {}
      },
      "cell_type": "code",
      "source": [
        "X_train, X_test, Y_train, Y_test = train_test_split(X, y, test_size=0.2, shuffle = False)"
      ],
      "execution_count": 0,
      "outputs": []
    },
    {
      "metadata": {
        "id": "UdOmGk1HIqXg",
        "colab_type": "code",
        "outputId": "bee7ae57-e568-4f02-b211-e9f45f594d0f",
        "colab": {
          "base_uri": "https://localhost:8080/",
          "height": 34
        }
      },
      "cell_type": "code",
      "source": [
        "y_p = np.full(len(Y_test), np.mean(Y_train))\n",
        "mean_absolute_error(Y_test, y_p)"
      ],
      "execution_count": 0,
      "outputs": [
        {
          "output_type": "execute_result",
          "data": {
            "text/plain": [
              "17.47044664581161"
            ]
          },
          "metadata": {
            "tags": []
          },
          "execution_count": 18
        }
      ]
    },
    {
      "metadata": {
        "id": "BP4ArIY7gi56",
        "colab_type": "code",
        "colab": {}
      },
      "cell_type": "code",
      "source": [
        "from sklearn.feature_selection import RFE\n",
        "from sklearn.ensemble import RandomForestRegressor\n",
        "\n",
        "rgr = RandomForestRegressor(criterion='mae')\n",
        "selector = RFE(rgr, 9, 2)\n",
        "selector = selector.fit(X_train, Y_train)\n",
        "X_train = X_train[X_train.columns[selector.get_support(indices=True)]]\n",
        "X_test = X_test[X_test.columns[selector.get_support(indices=True)]]"
      ],
      "execution_count": 0,
      "outputs": []
    },
    {
      "metadata": {
        "id": "fs3efJJW5g9-",
        "colab_type": "code",
        "outputId": "496dafc5-fafe-4cf2-c8f6-41ea77e2bc63",
        "colab": {
          "base_uri": "https://localhost:8080/",
          "height": 317
        }
      },
      "cell_type": "code",
      "source": [
        "X_train.describe()"
      ],
      "execution_count": 0,
      "outputs": [
        {
          "output_type": "execute_result",
          "data": {
            "text/html": [
              "<div>\n",
              "<style scoped>\n",
              "    .dataframe tbody tr th:only-of-type {\n",
              "        vertical-align: middle;\n",
              "    }\n",
              "\n",
              "    .dataframe tbody tr th {\n",
              "        vertical-align: top;\n",
              "    }\n",
              "\n",
              "    .dataframe thead th {\n",
              "        text-align: right;\n",
              "    }\n",
              "</style>\n",
              "<table border=\"1\" class=\"dataframe\">\n",
              "  <thead>\n",
              "    <tr style=\"text-align: right;\">\n",
              "      <th></th>\n",
              "      <th>ndvi_nw</th>\n",
              "      <th>ndvi_se</th>\n",
              "      <th>ndvi_sw</th>\n",
              "      <th>reanalysis_air_temp_k</th>\n",
              "      <th>reanalysis_precip_amt_kg_per_m2</th>\n",
              "      <th>reanalysis_specific_humidity_g_per_kg</th>\n",
              "      <th>reanalysis_tdtr_k</th>\n",
              "      <th>station_diur_temp_rng_c</th>\n",
              "      <th>station_precip_mm</th>\n",
              "    </tr>\n",
              "  </thead>\n",
              "  <tbody>\n",
              "    <tr>\n",
              "      <th>count</th>\n",
              "      <td>959.000000</td>\n",
              "      <td>959.000000</td>\n",
              "      <td>959.000000</td>\n",
              "      <td>959.000000</td>\n",
              "      <td>959.000000</td>\n",
              "      <td>959.000000</td>\n",
              "      <td>959.000000</td>\n",
              "      <td>959.000000</td>\n",
              "      <td>959.000000</td>\n",
              "    </tr>\n",
              "    <tr>\n",
              "      <th>mean</th>\n",
              "      <td>-0.223719</td>\n",
              "      <td>-0.151282</td>\n",
              "      <td>-0.184789</td>\n",
              "      <td>0.133281</td>\n",
              "      <td>-0.114020</td>\n",
              "      <td>-0.101249</td>\n",
              "      <td>-0.262122</td>\n",
              "      <td>-0.252711</td>\n",
              "      <td>-0.107345</td>\n",
              "    </tr>\n",
              "    <tr>\n",
              "      <th>std</th>\n",
              "      <td>0.948540</td>\n",
              "      <td>0.931686</td>\n",
              "      <td>0.897013</td>\n",
              "      <td>1.006227</td>\n",
              "      <td>0.951035</td>\n",
              "      <td>1.006276</td>\n",
              "      <td>0.906527</td>\n",
              "      <td>0.889952</td>\n",
              "      <td>0.887419</td>\n",
              "    </tr>\n",
              "    <tr>\n",
              "      <th>min</th>\n",
              "      <td>-4.892291</td>\n",
              "      <td>-2.970694</td>\n",
              "      <td>-3.147682</td>\n",
              "      <td>-2.961288</td>\n",
              "      <td>-0.934349</td>\n",
              "      <td>-3.355359</td>\n",
              "      <td>-1.052204</td>\n",
              "      <td>-1.709955</td>\n",
              "      <td>-0.835426</td>\n",
              "    </tr>\n",
              "    <tr>\n",
              "      <th>25%</th>\n",
              "      <td>-0.820783</td>\n",
              "      <td>-0.774383</td>\n",
              "      <td>-0.815289</td>\n",
              "      <td>-0.621269</td>\n",
              "      <td>-0.665617</td>\n",
              "      <td>-0.884300</td>\n",
              "      <td>-0.803636</td>\n",
              "      <td>-0.836392</td>\n",
              "      <td>-0.663913</td>\n",
              "    </tr>\n",
              "    <tr>\n",
              "      <th>50%</th>\n",
              "      <td>-0.338566</td>\n",
              "      <td>-0.233499</td>\n",
              "      <td>-0.305976</td>\n",
              "      <td>0.119641</td>\n",
              "      <td>-0.383393</td>\n",
              "      <td>0.102806</td>\n",
              "      <td>-0.686313</td>\n",
              "      <td>-0.547393</td>\n",
              "      <td>-0.394394</td>\n",
              "    </tr>\n",
              "    <tr>\n",
              "      <th>75%</th>\n",
              "      <td>0.376786</td>\n",
              "      <td>0.381395</td>\n",
              "      <td>0.269882</td>\n",
              "      <td>0.953754</td>\n",
              "      <td>0.050962</td>\n",
              "      <td>0.725275</td>\n",
              "      <td>-0.362181</td>\n",
              "      <td>0.073296</td>\n",
              "      <td>0.143624</td>\n",
              "    </tr>\n",
              "    <tr>\n",
              "      <th>max</th>\n",
              "      <td>2.508341</td>\n",
              "      <td>3.356557</td>\n",
              "      <td>3.979663</td>\n",
              "      <td>2.583756</td>\n",
              "      <td>11.895046</td>\n",
              "      <td>1.732613</td>\n",
              "      <td>3.032253</td>\n",
              "      <td>3.472310</td>\n",
              "      <td>10.257753</td>\n",
              "    </tr>\n",
              "  </tbody>\n",
              "</table>\n",
              "</div>"
            ],
            "text/plain": [
              "          ndvi_nw     ndvi_se     ndvi_sw  reanalysis_air_temp_k  \\\n",
              "count  959.000000  959.000000  959.000000             959.000000   \n",
              "mean    -0.223719   -0.151282   -0.184789               0.133281   \n",
              "std      0.948540    0.931686    0.897013               1.006227   \n",
              "min     -4.892291   -2.970694   -3.147682              -2.961288   \n",
              "25%     -0.820783   -0.774383   -0.815289              -0.621269   \n",
              "50%     -0.338566   -0.233499   -0.305976               0.119641   \n",
              "75%      0.376786    0.381395    0.269882               0.953754   \n",
              "max      2.508341    3.356557    3.979663               2.583756   \n",
              "\n",
              "       reanalysis_precip_amt_kg_per_m2  reanalysis_specific_humidity_g_per_kg  \\\n",
              "count                       959.000000                             959.000000   \n",
              "mean                         -0.114020                              -0.101249   \n",
              "std                           0.951035                               1.006276   \n",
              "min                          -0.934349                              -3.355359   \n",
              "25%                          -0.665617                              -0.884300   \n",
              "50%                          -0.383393                               0.102806   \n",
              "75%                           0.050962                               0.725275   \n",
              "max                          11.895046                               1.732613   \n",
              "\n",
              "       reanalysis_tdtr_k  station_diur_temp_rng_c  station_precip_mm  \n",
              "count         959.000000               959.000000         959.000000  \n",
              "mean           -0.262122                -0.252711          -0.107345  \n",
              "std             0.906527                 0.889952           0.887419  \n",
              "min            -1.052204                -1.709955          -0.835426  \n",
              "25%            -0.803636                -0.836392          -0.663913  \n",
              "50%            -0.686313                -0.547393          -0.394394  \n",
              "75%            -0.362181                 0.073296           0.143624  \n",
              "max             3.032253                 3.472310          10.257753  "
            ]
          },
          "metadata": {
            "tags": []
          },
          "execution_count": 20
        }
      ]
    },
    {
      "metadata": {
        "id": "Pg8iEJGkjETY",
        "colab_type": "code",
        "outputId": "b1854641-6b7f-457a-8910-682baa8c857e",
        "colab": {
          "base_uri": "https://localhost:8080/",
          "height": 317
        }
      },
      "cell_type": "code",
      "source": [
        "X_test.describe()"
      ],
      "execution_count": 0,
      "outputs": [
        {
          "output_type": "execute_result",
          "data": {
            "text/html": [
              "<div>\n",
              "<style scoped>\n",
              "    .dataframe tbody tr th:only-of-type {\n",
              "        vertical-align: middle;\n",
              "    }\n",
              "\n",
              "    .dataframe tbody tr th {\n",
              "        vertical-align: top;\n",
              "    }\n",
              "\n",
              "    .dataframe thead th {\n",
              "        text-align: right;\n",
              "    }\n",
              "</style>\n",
              "<table border=\"1\" class=\"dataframe\">\n",
              "  <thead>\n",
              "    <tr style=\"text-align: right;\">\n",
              "      <th></th>\n",
              "      <th>ndvi_nw</th>\n",
              "      <th>ndvi_se</th>\n",
              "      <th>ndvi_sw</th>\n",
              "      <th>reanalysis_air_temp_k</th>\n",
              "      <th>reanalysis_precip_amt_kg_per_m2</th>\n",
              "      <th>reanalysis_specific_humidity_g_per_kg</th>\n",
              "      <th>reanalysis_tdtr_k</th>\n",
              "      <th>station_diur_temp_rng_c</th>\n",
              "      <th>station_precip_mm</th>\n",
              "    </tr>\n",
              "  </thead>\n",
              "  <tbody>\n",
              "    <tr>\n",
              "      <th>count</th>\n",
              "      <td>240.000000</td>\n",
              "      <td>240.000000</td>\n",
              "      <td>240.000000</td>\n",
              "      <td>240.000000</td>\n",
              "      <td>240.000000</td>\n",
              "      <td>240.000000</td>\n",
              "      <td>240.000000</td>\n",
              "      <td>240.000000</td>\n",
              "      <td>240.000000</td>\n",
              "    </tr>\n",
              "    <tr>\n",
              "      <th>mean</th>\n",
              "      <td>0.893945</td>\n",
              "      <td>0.604496</td>\n",
              "      <td>0.738385</td>\n",
              "      <td>-0.532569</td>\n",
              "      <td>0.455607</td>\n",
              "      <td>0.404576</td>\n",
              "      <td>1.047394</td>\n",
              "      <td>1.009791</td>\n",
              "      <td>0.428934</td>\n",
              "    </tr>\n",
              "    <tr>\n",
              "      <th>std</th>\n",
              "      <td>0.637950</td>\n",
              "      <td>1.038530</td>\n",
              "      <td>1.052125</td>\n",
              "      <td>0.776012</td>\n",
              "      <td>1.063337</td>\n",
              "      <td>0.867406</td>\n",
              "      <td>0.587690</td>\n",
              "      <td>0.749566</td>\n",
              "      <td>1.276365</td>\n",
              "    </tr>\n",
              "    <tr>\n",
              "      <th>min</th>\n",
              "      <td>-0.624831</td>\n",
              "      <td>-1.606479</td>\n",
              "      <td>-1.648478</td>\n",
              "      <td>-2.804205</td>\n",
              "      <td>-0.932100</td>\n",
              "      <td>-3.094703</td>\n",
              "      <td>-0.395986</td>\n",
              "      <td>-1.401252</td>\n",
              "      <td>-0.835426</td>\n",
              "    </tr>\n",
              "    <tr>\n",
              "      <th>25%</th>\n",
              "      <td>0.443825</td>\n",
              "      <td>-0.187624</td>\n",
              "      <td>-0.049038</td>\n",
              "      <td>-1.058746</td>\n",
              "      <td>-0.213834</td>\n",
              "      <td>-0.103743</td>\n",
              "      <td>0.601266</td>\n",
              "      <td>0.437828</td>\n",
              "      <td>-0.508735</td>\n",
              "    </tr>\n",
              "    <tr>\n",
              "      <th>50%</th>\n",
              "      <td>0.842862</td>\n",
              "      <td>0.628428</td>\n",
              "      <td>0.653621</td>\n",
              "      <td>-0.596659</td>\n",
              "      <td>0.251330</td>\n",
              "      <td>0.577068</td>\n",
              "      <td>0.976105</td>\n",
              "      <td>1.004878</td>\n",
              "      <td>0.012948</td>\n",
              "    </tr>\n",
              "    <tr>\n",
              "      <th>75%</th>\n",
              "      <td>1.296258</td>\n",
              "      <td>1.248313</td>\n",
              "      <td>1.394577</td>\n",
              "      <td>0.010730</td>\n",
              "      <td>0.693781</td>\n",
              "      <td>1.040510</td>\n",
              "      <td>1.557752</td>\n",
              "      <td>1.544150</td>\n",
              "      <td>0.925129</td>\n",
              "    </tr>\n",
              "    <tr>\n",
              "      <th>max</th>\n",
              "      <td>2.651918</td>\n",
              "      <td>4.470872</td>\n",
              "      <td>3.976294</td>\n",
              "      <td>1.460086</td>\n",
              "      <td>5.551186</td>\n",
              "      <td>2.405426</td>\n",
              "      <td>2.411830</td>\n",
              "      <td>3.058517</td>\n",
              "      <td>5.149133</td>\n",
              "    </tr>\n",
              "  </tbody>\n",
              "</table>\n",
              "</div>"
            ],
            "text/plain": [
              "          ndvi_nw     ndvi_se     ndvi_sw  reanalysis_air_temp_k  \\\n",
              "count  240.000000  240.000000  240.000000             240.000000   \n",
              "mean     0.893945    0.604496    0.738385              -0.532569   \n",
              "std      0.637950    1.038530    1.052125               0.776012   \n",
              "min     -0.624831   -1.606479   -1.648478              -2.804205   \n",
              "25%      0.443825   -0.187624   -0.049038              -1.058746   \n",
              "50%      0.842862    0.628428    0.653621              -0.596659   \n",
              "75%      1.296258    1.248313    1.394577               0.010730   \n",
              "max      2.651918    4.470872    3.976294               1.460086   \n",
              "\n",
              "       reanalysis_precip_amt_kg_per_m2  reanalysis_specific_humidity_g_per_kg  \\\n",
              "count                       240.000000                             240.000000   \n",
              "mean                          0.455607                               0.404576   \n",
              "std                           1.063337                               0.867406   \n",
              "min                          -0.932100                              -3.094703   \n",
              "25%                          -0.213834                              -0.103743   \n",
              "50%                           0.251330                               0.577068   \n",
              "75%                           0.693781                               1.040510   \n",
              "max                           5.551186                               2.405426   \n",
              "\n",
              "       reanalysis_tdtr_k  station_diur_temp_rng_c  station_precip_mm  \n",
              "count         240.000000               240.000000         240.000000  \n",
              "mean            1.047394                 1.009791           0.428934  \n",
              "std             0.587690                 0.749566           1.276365  \n",
              "min            -0.395986                -1.401252          -0.835426  \n",
              "25%             0.601266                 0.437828          -0.508735  \n",
              "50%             0.976105                 1.004878           0.012948  \n",
              "75%             1.557752                 1.544150           0.925129  \n",
              "max             2.411830                 3.058517           5.149133  "
            ]
          },
          "metadata": {
            "tags": []
          },
          "execution_count": 51
        }
      ]
    },
    {
      "metadata": {
        "id": "46w7loozJyQG",
        "colab_type": "text"
      },
      "cell_type": "markdown",
      "source": [
        "###Linear model"
      ]
    },
    {
      "metadata": {
        "id": "KvXCM56WJ76O",
        "colab_type": "code",
        "colab": {}
      },
      "cell_type": "code",
      "source": [
        "from sklearn.linear_model import LinearRegression\n",
        "from sklearn import linear_model"
      ],
      "execution_count": 0,
      "outputs": []
    },
    {
      "metadata": {
        "id": "ETQNr1UzJxZT",
        "colab_type": "code",
        "outputId": "e6918056-927e-45d2-ecac-862cb5af4789",
        "colab": {
          "base_uri": "https://localhost:8080/",
          "height": 34
        }
      },
      "cell_type": "code",
      "source": [
        "Ridge = linear_model.Ridge(alpha = 140)\n",
        "Ridge.fit(X_train, Y_train)\n",
        "Y_pred = Ridge.predict(X_test)\n",
        "mean_absolute_error(Y_test, Y_pred)"
      ],
      "execution_count": 0,
      "outputs": [
        {
          "output_type": "execute_result",
          "data": {
            "text/plain": [
              "8.599145191222265"
            ]
          },
          "metadata": {
            "tags": []
          },
          "execution_count": 21
        }
      ]
    },
    {
      "metadata": {
        "id": "CVoj98e1KNXg",
        "colab_type": "code",
        "colab": {}
      },
      "cell_type": "code",
      "source": [
        "test_data = pd.read_csv(\"dengue_features_test.csv\")\n",
        "test_data = preprocess(test_data, train=False)\n",
        "test_data = test_data[test_data.columns[selector.get_support(indices=True)]]"
      ],
      "execution_count": 0,
      "outputs": []
    },
    {
      "metadata": {
        "id": "ikFNNWSrWSSF",
        "colab_type": "code",
        "colab": {}
      },
      "cell_type": "code",
      "source": [
        "predsRidge = Ridge.predict(test_data)\n",
        "predsRidge = predsRidge.astype(int)\n",
        "submission = pd.read_csv(\"submission_format.csv\")\n",
        "submission[\"total_cases\"] = predsRidge\n",
        "submission.to_csv('ridgeoutput.csv')"
      ],
      "execution_count": 0,
      "outputs": []
    },
    {
      "metadata": {
        "id": "UMJ_WoeZEEIl",
        "colab_type": "text"
      },
      "cell_type": "markdown",
      "source": [
        "###Neural Net"
      ]
    },
    {
      "metadata": {
        "id": "Da978enyEDXu",
        "colab_type": "code",
        "colab": {}
      },
      "cell_type": "code",
      "source": [
        "import keras\n",
        "from keras.models import Sequential\n",
        "from keras.layers import Dense, Dropout\n",
        "from keras.optimizers import Adam\n",
        "\n",
        "def model():\n",
        "  \n",
        "  model = Sequential()\n",
        "  model.add(Dense(81, input_dim=9, kernel_initializer='normal', activation = 'relu'))\n",
        "  model.add(Dense(162, kernel_initializer='normal', activation='relu'))\n",
        "  model.add(Dense(40, kernel_initializer='normal', activation='relu'))\n",
        "  model.add(Dense(1, kernel_initializer='normal', activation='linear'))\n",
        "\n",
        "  optimizer = Adam(lr=0.01, beta_1=0.9, beta_2=0.999, epsilon=None, decay=0.0, amsgrad=False)\n",
        "  model.compile(loss='mae', optimizer=optimizer)\n",
        "  \n",
        "  return model\n",
        "\n",
        "model()"
      ],
      "execution_count": 0,
      "outputs": []
    },
    {
      "metadata": {
        "id": "gLuhbg03IczH",
        "colab_type": "code",
        "outputId": "484f7bfd-5b15-40d4-88d9-8febadc4480a",
        "colab": {
          "base_uri": "https://localhost:8080/",
          "height": 1734
        }
      },
      "cell_type": "code",
      "source": [
        "model.fit(X_train, Y_train, batch_size=4, epochs=50, verbose=1)"
      ],
      "execution_count": 0,
      "outputs": [
        {
          "output_type": "stream",
          "text": [
            "Epoch 1/50\n",
            "959/959 [==============================] - 1s 711us/step - loss: 17.6081\n",
            "Epoch 2/50\n",
            "959/959 [==============================] - 0s 295us/step - loss: 18.6083\n",
            "Epoch 3/50\n",
            "959/959 [==============================] - 0s 297us/step - loss: 16.8381\n",
            "Epoch 4/50\n",
            "959/959 [==============================] - 0s 295us/step - loss: 16.8165\n",
            "Epoch 5/50\n",
            "959/959 [==============================] - 0s 297us/step - loss: 16.7253\n",
            "Epoch 6/50\n",
            "959/959 [==============================] - 0s 299us/step - loss: 16.6359\n",
            "Epoch 7/50\n",
            "959/959 [==============================] - 0s 302us/step - loss: 16.4457\n",
            "Epoch 8/50\n",
            "959/959 [==============================] - 0s 303us/step - loss: 16.5090\n",
            "Epoch 9/50\n",
            "959/959 [==============================] - 0s 294us/step - loss: 16.4212\n",
            "Epoch 10/50\n",
            "959/959 [==============================] - 0s 302us/step - loss: 16.2015\n",
            "Epoch 11/50\n",
            "959/959 [==============================] - 0s 303us/step - loss: 16.1814\n",
            "Epoch 12/50\n",
            "959/959 [==============================] - 0s 303us/step - loss: 16.1903\n",
            "Epoch 13/50\n",
            "959/959 [==============================] - 0s 308us/step - loss: 16.1405\n",
            "Epoch 14/50\n",
            "959/959 [==============================] - 0s 300us/step - loss: 16.1279\n",
            "Epoch 15/50\n",
            "959/959 [==============================] - 0s 309us/step - loss: 16.1310\n",
            "Epoch 16/50\n",
            "959/959 [==============================] - 0s 297us/step - loss: 16.0873\n",
            "Epoch 17/50\n",
            "959/959 [==============================] - 0s 303us/step - loss: 16.0285\n",
            "Epoch 18/50\n",
            "959/959 [==============================] - 0s 304us/step - loss: 16.0746\n",
            "Epoch 19/50\n",
            "959/959 [==============================] - 0s 306us/step - loss: 16.0260\n",
            "Epoch 20/50\n",
            "959/959 [==============================] - 0s 300us/step - loss: 15.9588\n",
            "Epoch 21/50\n",
            "959/959 [==============================] - 0s 297us/step - loss: 15.9324\n",
            "Epoch 22/50\n",
            "959/959 [==============================] - 0s 301us/step - loss: 15.6128\n",
            "Epoch 23/50\n",
            "959/959 [==============================] - 0s 297us/step - loss: 15.8723\n",
            "Epoch 24/50\n",
            "959/959 [==============================] - 0s 299us/step - loss: 15.7790\n",
            "Epoch 25/50\n",
            "959/959 [==============================] - 0s 295us/step - loss: 15.7117\n",
            "Epoch 26/50\n",
            "959/959 [==============================] - 0s 294us/step - loss: 15.9244\n",
            "Epoch 27/50\n",
            "959/959 [==============================] - 0s 295us/step - loss: 15.6142\n",
            "Epoch 28/50\n",
            "959/959 [==============================] - 0s 293us/step - loss: 15.7569\n",
            "Epoch 29/50\n",
            "959/959 [==============================] - 0s 297us/step - loss: 15.6580\n",
            "Epoch 30/50\n",
            "959/959 [==============================] - 0s 298us/step - loss: 15.6724\n",
            "Epoch 31/50\n",
            "959/959 [==============================] - 0s 297us/step - loss: 15.3863\n",
            "Epoch 32/50\n",
            "959/959 [==============================] - 0s 298us/step - loss: 15.3870\n",
            "Epoch 33/50\n",
            "959/959 [==============================] - 0s 295us/step - loss: 15.3587\n",
            "Epoch 34/50\n",
            "959/959 [==============================] - 0s 291us/step - loss: 15.2272\n",
            "Epoch 35/50\n",
            "959/959 [==============================] - 0s 299us/step - loss: 15.2315\n",
            "Epoch 36/50\n",
            "959/959 [==============================] - 0s 296us/step - loss: 14.9640\n",
            "Epoch 37/50\n",
            "959/959 [==============================] - 0s 296us/step - loss: 14.9331\n",
            "Epoch 38/50\n",
            "959/959 [==============================] - 0s 299us/step - loss: 14.9985\n",
            "Epoch 39/50\n",
            "959/959 [==============================] - 0s 301us/step - loss: 15.3185\n",
            "Epoch 40/50\n",
            "959/959 [==============================] - 0s 311us/step - loss: 15.0980\n",
            "Epoch 41/50\n",
            "959/959 [==============================] - 0s 303us/step - loss: 15.1395\n",
            "Epoch 42/50\n",
            "959/959 [==============================] - 0s 303us/step - loss: 14.7348\n",
            "Epoch 43/50\n",
            "959/959 [==============================] - 0s 301us/step - loss: 14.9051\n",
            "Epoch 44/50\n",
            "959/959 [==============================] - 0s 299us/step - loss: 14.8096\n",
            "Epoch 45/50\n",
            "959/959 [==============================] - 0s 295us/step - loss: 14.7166\n",
            "Epoch 46/50\n",
            "959/959 [==============================] - 0s 291us/step - loss: 14.6914\n",
            "Epoch 47/50\n",
            "959/959 [==============================] - 0s 298us/step - loss: 14.6586\n",
            "Epoch 48/50\n",
            "959/959 [==============================] - 0s 296us/step - loss: 14.7655\n",
            "Epoch 49/50\n",
            "959/959 [==============================] - 0s 303us/step - loss: 14.5383\n",
            "Epoch 50/50\n",
            "959/959 [==============================] - 0s 304us/step - loss: 14.5403\n"
          ],
          "name": "stdout"
        },
        {
          "output_type": "execute_result",
          "data": {
            "text/plain": [
              "<keras.callbacks.History at 0x7f0c10cd0a20>"
            ]
          },
          "metadata": {
            "tags": []
          },
          "execution_count": 29
        }
      ]
    },
    {
      "metadata": {
        "id": "yA-eWMY6CHVX",
        "colab_type": "code",
        "colab": {}
      },
      "cell_type": "code",
      "source": [
        "test_data = pd.read_csv(\"dengue_features_test.csv\")\n",
        "test_data = preprocess(test_data, train=False)\n",
        "test_data = test_data[test_data.columns[selector.get_support(indices=True)]]"
      ],
      "execution_count": 0,
      "outputs": []
    },
    {
      "metadata": {
        "id": "IbBQ110JNtV2",
        "colab_type": "code",
        "colab": {}
      },
      "cell_type": "code",
      "source": [
        "predsNN = model.predict(test_data)\n",
        "predsNN = predsNN.astype(int)\n",
        "submission = pd.read_csv(\"submission_format.csv\")\n",
        "submission[\"total_cases\"] = predsNN\n",
        "submission.to_csv('neuraloutput.csv')"
      ],
      "execution_count": 0,
      "outputs": []
    },
    {
      "metadata": {
        "id": "k1TAIM6sXt_v",
        "colab_type": "text"
      },
      "cell_type": "markdown",
      "source": [
        "###XGBoost"
      ]
    },
    {
      "metadata": {
        "id": "ab_zT3JrXxjr",
        "colab_type": "code",
        "colab": {}
      },
      "cell_type": "code",
      "source": [
        "import xgboost as xgb\n",
        "from xgboost.sklearn import XGBRegressor\n",
        "import scipy.stats as st\n",
        "\n",
        "one_to_left = st.beta(10,1)\n",
        "from_zero_positive = st.expon(0,50)\n",
        "\n",
        "params = {\n",
        "    \"n_estimators\": st.randint(3, 60),\n",
        "    \"max_depth\": st.randint(3, 60),\n",
        "    \"learning_rate\":st.uniform(0.05, 0.4),\n",
        "    \"colsample_bytree\": one_to_left,\n",
        "    \"subsample\": one_to_left,\n",
        "    \"gamma\": st.uniform(0, 10),\n",
        "    \"reg_alpha\": from_zero_positive,\n",
        "    \"min_child_weight\": from_zero_positive\n",
        "}\n",
        "#best params = {'colsample_bytree': 0.8320369789393744, 'gamma': 2.0974049871553833, 'learning_rate': 0.14541620039263492, 'max_depth': 57, 'min_child_weight': 85.37391881679474, 'n_estimators': 3, 'reg_alpha': 34.256651377835496, 'subsample': 0.9915172634648912}\n",
        "\n",
        "xgbreg = XGBRegressor(n_threads=-1)\n"
      ],
      "execution_count": 0,
      "outputs": []
    },
    {
      "metadata": {
        "id": "t8RTUaAVq3o4",
        "colab_type": "code",
        "outputId": "73abbe7c-dc09-4a40-e56d-2e9f6bf12933",
        "colab": {
          "base_uri": "https://localhost:8080/",
          "height": 71
        }
      },
      "cell_type": "code",
      "source": [
        "from sklearn.model_selection import RandomizedSearchCV\n",
        "\n",
        "boostedmodel = RandomizedSearchCV(xgbreg, params, n_jobs=1, scoring='neg_mean_absolute_error')\n",
        "boostedmodel.fit(X_train, Y_train)\n",
        "print(boostedmodel.best_params_)\n",
        "print(boostedmodel.best_score_)"
      ],
      "execution_count": 0,
      "outputs": [
        {
          "output_type": "stream",
          "text": [
            "{'colsample_bytree': 0.8320369789393744, 'gamma': 2.0974049871553833, 'learning_rate': 0.14541620039263492, 'max_depth': 57, 'min_child_weight': 85.37391881679474, 'n_estimators': 3, 'reg_alpha': 34.256651377835496, 'subsample': 0.9915172634648912}\n",
            "-20.246198507493926\n"
          ],
          "name": "stdout"
        }
      ]
    },
    {
      "metadata": {
        "id": "H9k91F_sym2a",
        "colab_type": "code",
        "colab": {}
      },
      "cell_type": "code",
      "source": [
        "test_data = pd.read_csv(\"dengue_features_test.csv\")\n",
        "test_data = preprocess(test_data, train=False)\n",
        "test_data = test_data[test_data.columns[selector.get_support(indices=True)]]"
      ],
      "execution_count": 0,
      "outputs": []
    },
    {
      "metadata": {
        "id": "AVHDghkayr97",
        "colab_type": "code",
        "colab": {}
      },
      "cell_type": "code",
      "source": [
        "predsXGB = boostedmodel.predict(test_data)\n",
        "predsXGB = predsXGB.astype(int)\n",
        "submission = pd.read_csv(\"submission_format.csv\")\n",
        "submission[\"total_cases\"] = predsXGB\n",
        "submission.to_csv('xgboutput.csv')"
      ],
      "execution_count": 0,
      "outputs": []
    },
    {
      "metadata": {
        "id": "Vdf0mQoJzktp",
        "colab_type": "text"
      },
      "cell_type": "markdown",
      "source": [
        "###Stacked model"
      ]
    },
    {
      "metadata": {
        "id": "eIE3e00GODU-",
        "colab_type": "code",
        "outputId": "5b5e08c6-226d-4bfb-9038-39fc4803bc9c",
        "colab": {
          "base_uri": "https://localhost:8080/",
          "height": 85
        }
      },
      "cell_type": "code",
      "source": [
        "!git clone https://github.com/h2oai/pystacknet"
      ],
      "execution_count": 0,
      "outputs": [
        {
          "output_type": "stream",
          "text": [
            "Cloning into 'pystacknet'...\n",
            "remote: Enumerating objects: 42, done.\u001b[K\n",
            "remote: Total 42 (delta 0), reused 0 (delta 0), pack-reused 42\u001b[K\n",
            "Unpacking objects: 100% (42/42), done.\n"
          ],
          "name": "stdout"
        }
      ]
    },
    {
      "metadata": {
        "id": "ankAQ825iRRj",
        "colab_type": "code",
        "outputId": "8e5cee50-c37f-49c5-91e9-a956c8492767",
        "colab": {
          "base_uri": "https://localhost:8080/",
          "height": 34
        }
      },
      "cell_type": "code",
      "source": [
        "cd pystacknet"
      ],
      "execution_count": 0,
      "outputs": [
        {
          "output_type": "stream",
          "text": [
            "/content/DengAI/pystacknet\n"
          ],
          "name": "stdout"
        }
      ]
    },
    {
      "metadata": {
        "id": "Wkb5SesOO8t5",
        "colab_type": "code",
        "outputId": "7e703ce1-49e1-41a5-bbd6-78348f1c05f3",
        "colab": {
          "base_uri": "https://localhost:8080/",
          "height": 1258
        }
      },
      "cell_type": "code",
      "source": [
        "\n",
        "!python setup.py install"
      ],
      "execution_count": 0,
      "outputs": [
        {
          "output_type": "stream",
          "text": [
            "warning: pypandoc module not found, could not convert Markdown to RST\n",
            "running install\n",
            "running bdist_egg\n",
            "running egg_info\n",
            "creating pystacknet.egg-info\n",
            "writing pystacknet.egg-info/PKG-INFO\n",
            "writing dependency_links to pystacknet.egg-info/dependency_links.txt\n",
            "writing requirements to pystacknet.egg-info/requires.txt\n",
            "writing top-level names to pystacknet.egg-info/top_level.txt\n",
            "writing manifest file 'pystacknet.egg-info/SOURCES.txt'\n",
            "reading manifest file 'pystacknet.egg-info/SOURCES.txt'\n",
            "writing manifest file 'pystacknet.egg-info/SOURCES.txt'\n",
            "installing library code to build/bdist.linux-x86_64/egg\n",
            "running install_lib\n",
            "running build_py\n",
            "creating build\n",
            "creating build/lib\n",
            "creating build/lib/pystacknet\n",
            "copying pystacknet/pystacknet.py -> build/lib/pystacknet\n",
            "copying pystacknet/__init__.py -> build/lib/pystacknet\n",
            "copying pystacknet/metrics.py -> build/lib/pystacknet\n",
            "creating build/lib/pystacknet/test\n",
            "copying pystacknet/test/__init__.py -> build/lib/pystacknet/test\n",
            "copying pystacknet/test/test_pystacknet.py -> build/lib/pystacknet/test\n",
            "copying pystacknet/test/test_amazon.py -> build/lib/pystacknet/test\n",
            "creating build/bdist.linux-x86_64\n",
            "creating build/bdist.linux-x86_64/egg\n",
            "creating build/bdist.linux-x86_64/egg/pystacknet\n",
            "copying build/lib/pystacknet/pystacknet.py -> build/bdist.linux-x86_64/egg/pystacknet\n",
            "copying build/lib/pystacknet/__init__.py -> build/bdist.linux-x86_64/egg/pystacknet\n",
            "copying build/lib/pystacknet/metrics.py -> build/bdist.linux-x86_64/egg/pystacknet\n",
            "creating build/bdist.linux-x86_64/egg/pystacknet/test\n",
            "copying build/lib/pystacknet/test/__init__.py -> build/bdist.linux-x86_64/egg/pystacknet/test\n",
            "copying build/lib/pystacknet/test/test_pystacknet.py -> build/bdist.linux-x86_64/egg/pystacknet/test\n",
            "copying build/lib/pystacknet/test/test_amazon.py -> build/bdist.linux-x86_64/egg/pystacknet/test\n",
            "byte-compiling build/bdist.linux-x86_64/egg/pystacknet/pystacknet.py to pystacknet.cpython-36.pyc\n",
            "byte-compiling build/bdist.linux-x86_64/egg/pystacknet/__init__.py to __init__.cpython-36.pyc\n",
            "byte-compiling build/bdist.linux-x86_64/egg/pystacknet/metrics.py to metrics.cpython-36.pyc\n",
            "byte-compiling build/bdist.linux-x86_64/egg/pystacknet/test/__init__.py to __init__.cpython-36.pyc\n",
            "byte-compiling build/bdist.linux-x86_64/egg/pystacknet/test/test_pystacknet.py to test_pystacknet.cpython-36.pyc\n",
            "byte-compiling build/bdist.linux-x86_64/egg/pystacknet/test/test_amazon.py to test_amazon.cpython-36.pyc\n",
            "creating build/bdist.linux-x86_64/egg/EGG-INFO\n",
            "copying pystacknet.egg-info/PKG-INFO -> build/bdist.linux-x86_64/egg/EGG-INFO\n",
            "copying pystacknet.egg-info/SOURCES.txt -> build/bdist.linux-x86_64/egg/EGG-INFO\n",
            "copying pystacknet.egg-info/dependency_links.txt -> build/bdist.linux-x86_64/egg/EGG-INFO\n",
            "copying pystacknet.egg-info/requires.txt -> build/bdist.linux-x86_64/egg/EGG-INFO\n",
            "copying pystacknet.egg-info/top_level.txt -> build/bdist.linux-x86_64/egg/EGG-INFO\n",
            "zip_safe flag not set; analyzing archive contents...\n",
            "creating dist\n",
            "creating 'dist/pystacknet-0.0.1-py3.6.egg' and adding 'build/bdist.linux-x86_64/egg' to it\n",
            "removing 'build/bdist.linux-x86_64/egg' (and everything under it)\n",
            "Processing pystacknet-0.0.1-py3.6.egg\n",
            "Copying pystacknet-0.0.1-py3.6.egg to /usr/local/lib/python3.6/dist-packages\n",
            "Adding pystacknet 0.0.1 to easy-install.pth file\n",
            "\n",
            "Installed /usr/local/lib/python3.6/dist-packages/pystacknet-0.0.1-py3.6.egg\n",
            "Processing dependencies for pystacknet==0.0.1\n",
            "Searching for scikit-learn==0.20.2\n",
            "Best match: scikit-learn 0.20.2\n",
            "Adding scikit-learn 0.20.2 to easy-install.pth file\n",
            "\n",
            "Using /usr/local/lib/python3.6/dist-packages\n",
            "Searching for scipy==1.1.0\n",
            "Best match: scipy 1.1.0\n",
            "Adding scipy 1.1.0 to easy-install.pth file\n",
            "\n",
            "Using /usr/local/lib/python3.6/dist-packages\n",
            "Searching for numpy==1.14.6\n",
            "Best match: numpy 1.14.6\n",
            "Adding numpy 1.14.6 to easy-install.pth file\n",
            "\n",
            "Using /usr/local/lib/python3.6/dist-packages\n",
            "Finished processing dependencies for pystacknet==0.0.1\n"
          ],
          "name": "stdout"
        }
      ]
    },
    {
      "metadata": {
        "id": "_r5UKBz0PLPj",
        "colab_type": "code",
        "colab": {}
      },
      "cell_type": "code",
      "source": [
        "from pystacknet.pystacknet import StackNetRegressor\n",
        "from sklearn.ensemble import ExtraTreesRegressor, GradientBoostingRegressor\n",
        "from sklearn.linear_model import Ridge\n",
        "from sklearn.neural_network import MLPRegressor\n",
        "from sklearn.metrics import mean_absolute_error\n",
        "from keras.wrappers.scikit_learn import KerasRegressor\n",
        "from keras.models import Sequential\n",
        "from keras.layers.core import Dense, Activation, Dropout\n",
        "from xgboost.sklearn import XGBRegressor\n",
        "import scipy.stats as st\n",
        "\n",
        "def keras_model():\n",
        "  model = Sequential()\n",
        "  \n",
        "  model.add(Dense(81, input_dim=9, activation='relu'))\n",
        "  model.add(Dense(128, activation='relu'))\n",
        "  model.add(Dropout(0.15))\n",
        "  model.add(Dense(128, activation='relu'))\n",
        "  model.add(Dense(1, activation='linear'))\n",
        "  \n",
        "  model.compile(loss='mean_absolute_error', optimizer='adam')\n",
        "  \n",
        "  return model\n",
        "\n",
        "FOLDS = 5\n",
        "METRIC = 'mae'\n",
        "RESTACKING = False\n",
        "RETRAIN = True\n",
        "SEED = 42\n",
        "VERBOSE = 0\n",
        "\n",
        "models = [\n",
        "    #LEVEL 1\n",
        "    [\n",
        "        Ridge(alpha=0.001, normalize=True, random_state=42),\n",
        "        GradientBoostingRegressor(n_estimators=200, learning_rate=0.05, max_features=8, min_samples_leaf=20, max_depth=6,\n",
        "                                  random_state=42),\n",
        "        KerasRegressor(build_fn=keras_model, epochs=10, batch_size=15, verbose=0),\n",
        "        ExtraTreesRegressor(n_estimators=200, max_features=0.5, max_depth=15, random_state=42),\n",
        "        XGBRegressor(n_threads=-1, colsample_bytree=0.8320369789393744, gamma=2.0974049871553833, learning_rate=0.14541620039263492, \n",
        "                     max_depth=57, min_child_weight=85.37391881679474, n_estimators=3, reg_alpha=34.256651377835496, \n",
        "                     subsample=0.9915172634648912)\n",
        "    ],\n",
        "    #LEVEL 2\n",
        "    [\n",
        "        MLPRegressor(hidden_layer_sizes=(100,50 ), activation=\"relu\", solver=\"adam\",alpha=0.01,batch_size=30, \n",
        "                     learning_rate=\"adaptive\",learning_rate_init=0.001, power_t=0.5,max_iter=20, shuffle=True, \n",
        "                     random_state=1, tol=0.0001, momentum=0.9,validation_fraction=0.1,beta_1=0.1, beta_2=0.1, epsilon=0.1)\n",
        "    ]\n",
        "]\n",
        "\n",
        "model = StackNetRegressor(models, metric=METRIC, folds=FOLDS,\n",
        "                         restacking=RESTACKING, use_retraining=RETRAIN,\n",
        "                         random_state=SEED, verbose=VERBOSE)\n",
        "\n",
        "model.fit(X_train,Y_train)\n",
        "\n"
      ],
      "execution_count": 0,
      "outputs": []
    },
    {
      "metadata": {
        "id": "cawE5Znzjlwy",
        "colab_type": "code",
        "outputId": "523dd4b5-bad9-449a-df15-11e6c818c2c1",
        "colab": {
          "base_uri": "https://localhost:8080/",
          "height": 34
        }
      },
      "cell_type": "code",
      "source": [
        "X_test = X_test.values\n",
        "\n",
        "preds=model.predict(X_test)\n",
        "\n",
        "mean_absolute_error(Y_test, preds)\n"
      ],
      "execution_count": 0,
      "outputs": [
        {
          "output_type": "execute_result",
          "data": {
            "text/plain": [
              "6.042730236274723"
            ]
          },
          "metadata": {
            "tags": []
          },
          "execution_count": 52
        }
      ]
    },
    {
      "metadata": {
        "id": "wVM952eCkFkK",
        "colab_type": "code",
        "outputId": "81124c6e-0e1b-44bb-c5d9-f4240bcad5d0",
        "colab": {
          "base_uri": "https://localhost:8080/",
          "height": 34
        }
      },
      "cell_type": "code",
      "source": [
        "cd .."
      ],
      "execution_count": 0,
      "outputs": [
        {
          "output_type": "stream",
          "text": [
            "/content/DengAI\n"
          ],
          "name": "stdout"
        }
      ]
    },
    {
      "metadata": {
        "id": "n9mcmaMzjqjz",
        "colab_type": "code",
        "colab": {}
      },
      "cell_type": "code",
      "source": [
        "test_data = pd.read_csv(\"dengue_features_test.csv\")\n",
        "test_data = preprocess(test_data, train=False)\n",
        "test_data = test_data[test_data.columns[selector.get_support(indices=True)]]\n",
        "test_data = test_data.values"
      ],
      "execution_count": 0,
      "outputs": []
    },
    {
      "metadata": {
        "id": "PzReFOL5jzFy",
        "colab_type": "code",
        "colab": {}
      },
      "cell_type": "code",
      "source": [
        "predsStacked = model.predict(test_data)\n",
        "predsStacked = predsStacked.astype(int)\n",
        "submission = pd.read_csv(\"submission_format.csv\")\n",
        "submission[\"total_cases\"] = predsStacked\n",
        "submission.to_csv('stackedoutput.csv')"
      ],
      "execution_count": 0,
      "outputs": []
    }
  ]
}